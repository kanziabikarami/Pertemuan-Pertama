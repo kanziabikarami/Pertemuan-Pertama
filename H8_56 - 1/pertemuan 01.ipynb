{
 "cells": [
  {
   "cell_type": "code",
   "execution_count": 1,
   "id": "0bbfa278-7df2-4618-aa0d-449510884f04",
   "metadata": {},
   "outputs": [
    {
     "ename": "NameError",
     "evalue": "name 'notes' is not defined",
     "output_type": "error",
     "traceback": [
      "\u001b[0;31m---------------------------------------------------------------------------\u001b[0m",
      "\u001b[0;31mNameError\u001b[0m                                 Traceback (most recent call last)",
      "\u001b[0;32m<ipython-input-1-b9350f295d01>\u001b[0m in \u001b[0;36m<module>\u001b[0;34m\u001b[0m\n\u001b[0;32m----> 1\u001b[0;31m \u001b[0mnotes\u001b[0m\u001b[0;34m\u001b[0m\u001b[0;34m\u001b[0m\u001b[0m\n\u001b[0m",
      "\u001b[0;31mNameError\u001b[0m: name 'notes' is not defined"
     ]
    }
   ],
   "source": []
  },
  {
   "cell_type": "code",
   "execution_count": null,
   "id": "64f20966-e66a-40ba-8cd5-a8525d256656",
   "metadata": {},
   "outputs": [],
   "source": []
  },
  {
   "cell_type": "code",
   "execution_count": 2,
   "id": "0d63b8ad-c881-4a3b-af85-e258c2009a5b",
   "metadata": {},
   "outputs": [
    {
     "data": {
      "text/plain": [
       "123"
      ]
     },
     "execution_count": 2,
     "metadata": {},
     "output_type": "execute_result"
    }
   ],
   "source": [
    "123"
   ]
  },
  {
   "cell_type": "code",
   "execution_count": 3,
   "id": "b2b61e4a-048b-444f-8629-d9731c73aa22",
   "metadata": {},
   "outputs": [
    {
     "name": "stdout",
     "output_type": "stream",
     "text": [
      "<class 'int'>\n"
     ]
    }
   ],
   "source": [
    "print(type(123))"
   ]
  },
  {
   "cell_type": "code",
   "execution_count": 4,
   "id": "f616601d-a7fe-4522-8837-3af1efc08f69",
   "metadata": {},
   "outputs": [
    {
     "ename": "NameError",
     "evalue": "name 'variable' is not defined",
     "output_type": "error",
     "traceback": [
      "\u001b[0;31m---------------------------------------------------------------------------\u001b[0m",
      "\u001b[0;31mNameError\u001b[0m                                 Traceback (most recent call last)",
      "\u001b[0;32m<ipython-input-4-1748287bc46a>\u001b[0m in \u001b[0;36m<module>\u001b[0;34m\u001b[0m\n\u001b[0;32m----> 1\u001b[0;31m \u001b[0mvariable\u001b[0m\u001b[0;34m\u001b[0m\u001b[0;34m\u001b[0m\u001b[0m\n\u001b[0m",
      "\u001b[0;31mNameError\u001b[0m: name 'variable' is not defined"
     ]
    }
   ],
   "source": [
    "variable"
   ]
  },
  {
   "cell_type": "code",
   "execution_count": 5,
   "id": "8b6f96dc-52cf-4263-a89d-03be50258985",
   "metadata": {},
   "outputs": [],
   "source": [
    "num = 201"
   ]
  },
  {
   "cell_type": "code",
   "execution_count": 15,
   "id": "ec4551a3-205a-4c7b-b1fd-ea7a1df3bf34",
   "metadata": {
    "tags": []
   },
   "outputs": [
    {
     "name": "stdout",
     "output_type": "stream",
     "text": [
      "206\n"
     ]
    }
   ],
   "source": [
    "print (num)"
   ]
  },
  {
   "cell_type": "code",
   "execution_count": 11,
   "id": "97d86b38-b906-47ca-a442-cedc0d2cdbdc",
   "metadata": {
    "collapsed": true,
    "jupyter": {
     "outputs_hidden": true
    },
    "tags": []
   },
   "outputs": [
    {
     "name": "stdout",
     "output_type": "stream",
     "text": [
      "<class 'str'>\n"
     ]
    }
   ],
   "source": [
    "msg = \"halo\"\n",
    "print (type (msg))"
   ]
  },
  {
   "cell_type": "code",
   "execution_count": 12,
   "id": "2b1e6ea6-c521-4975-b7d6-4343a10ee2ea",
   "metadata": {},
   "outputs": [
    {
     "name": "stdout",
     "output_type": "stream",
     "text": [
      "haloselamat malam!\n"
     ]
    }
   ],
   "source": [
    "msg = msg + \"selamat malam!\"\n",
    "print(msg)"
   ]
  },
  {
   "cell_type": "code",
   "execution_count": 14,
   "id": "8530f823-3d64-47f5-9e11-c32a0776ac31",
   "metadata": {},
   "outputs": [
    {
     "name": "stdout",
     "output_type": "stream",
     "text": [
      "<class 'bool'>\n"
     ]
    }
   ],
   "source": [
    "hujan = True \n",
    "cerah = False\n",
    "print(type(hujan))"
   ]
  },
  {
   "cell_type": "code",
   "execution_count": 16,
   "id": "a5d6f13b-afe8-460d-a901-f181aa93828e",
   "metadata": {},
   "outputs": [
    {
     "name": "stdout",
     "output_type": "stream",
     "text": [
      "haloselamat malam!\n"
     ]
    }
   ],
   "source": [
    "print (msg)"
   ]
  },
  {
   "cell_type": "code",
   "execution_count": 17,
   "id": "4acbaf97-5094-4141-adff-2c4df2b2a46c",
   "metadata": {},
   "outputs": [
    {
     "name": "stdout",
     "output_type": "stream",
     "text": [
      "True\n",
      "206\n"
     ]
    }
   ],
   "source": [
    "print (hujan)\n",
    "print (num)"
   ]
  },
  {
   "cell_type": "code",
   "execution_count": 20,
   "id": "3df93ae9-540b-444e-87fd-2758ac019fb3",
   "metadata": {},
   "outputs": [
    {
     "ename": "NameError",
     "evalue": "name 'namaLengkap' is not defined",
     "output_type": "error",
     "traceback": [
      "\u001b[0;31m---------------------------------------------------------------------------\u001b[0m",
      "\u001b[0;31mNameError\u001b[0m                                 Traceback (most recent call last)",
      "\u001b[0;32m<ipython-input-20-428d66438594>\u001b[0m in \u001b[0;36m<module>\u001b[0;34m\u001b[0m\n\u001b[1;32m      5\u001b[0m \u001b[0;31m# gunakan underscore untuk memisah kata\u001b[0m\u001b[0;34m\u001b[0m\u001b[0;34m\u001b[0m\u001b[0;34m\u001b[0m\u001b[0m\n\u001b[1;32m      6\u001b[0m \u001b[0;34m\u001b[0m\u001b[0m\n\u001b[0;32m----> 7\u001b[0;31m \u001b[0mnamaLengkap\u001b[0m \u001b[0;31m# camel case\u001b[0m\u001b[0;34m\u001b[0m\u001b[0;34m\u001b[0m\u001b[0m\n\u001b[0m\u001b[1;32m      8\u001b[0m \u001b[0mNamaLengkap\u001b[0m \u001b[0;31m# pascal case\u001b[0m\u001b[0;34m\u001b[0m\u001b[0;34m\u001b[0m\u001b[0m\n\u001b[1;32m      9\u001b[0m \u001b[0mnama_lengkap\u001b[0m \u001b[0;31m# snake case\u001b[0m\u001b[0;34m\u001b[0m\u001b[0;34m\u001b[0m\u001b[0m\n",
      "\u001b[0;31mNameError\u001b[0m: name 'namaLengkap' is not defined"
     ]
    }
   ],
   "source": [
    "nama_lengkap = \"Kanzi Abi Karami\"\n",
    "tanggal_lahir = \"14 September 1994\"\n",
    "# cara tulis variable yang baik \n",
    "# gunakan huruf pada variabel pertama, dan \n",
    "# gunakan underscore untuk memisah kata\n",
    "\n",
    "namaLengkap # camel case\n",
    "NamaLengkap # pascal case\n",
    "nama_lengkap # snake case"
   ]
  },
  {
   "cell_type": "code",
   "execution_count": 21,
   "id": "7f668c74-8938-43bb-baeb-69ee1c330bd7",
   "metadata": {},
   "outputs": [
    {
     "name": "stdout",
     "output_type": "stream",
     "text": [
      "17\n",
      "3\n",
      "1.4285714285714286\n",
      "70\n",
      "3\n",
      "10000000\n"
     ]
    }
   ],
   "source": [
    "a = 10\n",
    "b = 7\n",
    "\n",
    "c = a + b\n",
    "print (c)\n",
    "\n",
    "c = a - b\n",
    "print (c)\n",
    "\n",
    "print (a/b)\n",
    "print (a * b)\n",
    "print (a % b)\n",
    "print (a ** b)"
   ]
  },
  {
   "cell_type": "code",
   "execution_count": 22,
   "id": "1cc12391-cb7d-4a54-bbdd-c90f749be958",
   "metadata": {},
   "outputs": [
    {
     "name": "stdout",
     "output_type": "stream",
     "text": [
      "False\n",
      "True\n",
      "True\n",
      "True\n",
      "False\n",
      "False\n"
     ]
    }
   ],
   "source": [
    "# operator comparison mengembalikan true atau false\n",
    "print (a == b)\n",
    "print (a != b)\n",
    "print (a > b)\n",
    "print (a >= b)\n",
    "print (a < b)\n",
    "print (a <= b)"
   ]
  },
  {
   "cell_type": "code",
   "execution_count": 23,
   "id": "14f15e03-9579-4404-bf01-9f623da44686",
   "metadata": {},
   "outputs": [
    {
     "name": "stdout",
     "output_type": "stream",
     "text": [
      "h8 kelas phyton\n"
     ]
    }
   ],
   "source": [
    "msg2 = \"h8\"\n",
    "print (msg2 + \" kelas phyton\")"
   ]
  },
  {
   "cell_type": "code",
   "execution_count": 24,
   "id": "f7ade0e2-0e04-4af1-bbde-a10b7c1601f2",
   "metadata": {},
   "outputs": [
    {
     "name": "stdout",
     "output_type": "stream",
     "text": [
      "h8h8h8\n"
     ]
    }
   ],
   "source": [
    "print (msg2 * 3)"
   ]
  },
  {
   "cell_type": "code",
   "execution_count": 25,
   "id": "7fbd1686-64f4-495e-9d23-5f5554f98285",
   "metadata": {},
   "outputs": [
    {
     "name": "stdout",
     "output_type": "stream",
     "text": [
      "True\n"
     ]
    }
   ],
   "source": [
    "print ('8' in msg2)"
   ]
  },
  {
   "cell_type": "code",
   "execution_count": 26,
   "id": "b3cf815f-1090-44c5-afa4-2fd97e41c5b7",
   "metadata": {},
   "outputs": [
    {
     "name": "stdout",
     "output_type": "stream",
     "text": [
      "False\n"
     ]
    }
   ],
   "source": [
    "print ('0' in msg2)"
   ]
  },
  {
   "cell_type": "code",
   "execution_count": 28,
   "id": "2d0f6eed-d527-4822-88ee-0d12da0f950f",
   "metadata": {},
   "outputs": [
    {
     "name": "stdout",
     "output_type": "stream",
     "text": [
      "Malam hari ini kita belajar\n",
      "MALAM HARI INI KITA BELAJAR\n",
      "malam hari ini kita belajar\n",
      "Malam Hari Ini Kita Belajar\n",
      "MALAM HARI INI KITA belajar\n"
     ]
    }
   ],
   "source": [
    "msg3 = \"malam hari ini kita BELAJAR\"\n",
    "\n",
    "print (msg3.capitalize())\n",
    "print (msg3.upper())\n",
    "print (msg3.lower())\n",
    "print (msg3.title())\n",
    "print (msg3.swapcase())"
   ]
  },
  {
   "cell_type": "code",
   "execution_count": 36,
   "id": "13eca3a5-909c-4812-a8a5-d55fba095990",
   "metadata": {},
   "outputs": [
    {
     "name": "stdout",
     "output_type": "stream",
     "text": [
      "['apel', 'mangga', 'duku', 'pisang']\n",
      "['durian', 'mangga', 'duku', 'pisang']\n",
      "<class 'list'>\n"
     ]
    }
   ],
   "source": [
    "list_buah = [\"apel\", \"mangga\", \"duku\", \"pisang\"]\n",
    "list_buah2 = [\"durian\", \"mangga\", \"duku\", \"pisang\"]\n",
    "print(list_buah)\n",
    "print (list_buah2)\n",
    "print(type(list_buah))"
   ]
  },
  {
   "cell_type": "code",
   "execution_count": 30,
   "id": "6a4c67e3-00bc-4ea1-ad45-99ab146e5b21",
   "metadata": {},
   "outputs": [
    {
     "name": "stdout",
     "output_type": "stream",
     "text": [
      "pisang\n"
     ]
    }
   ],
   "source": [
    "print(list_buah[3])"
   ]
  },
  {
   "cell_type": "code",
   "execution_count": 31,
   "id": "dbb13fd4-3763-4c7d-be35-00cc906c0a83",
   "metadata": {},
   "outputs": [
    {
     "name": "stdout",
     "output_type": "stream",
     "text": [
      "mangga\n"
     ]
    }
   ],
   "source": [
    "print(list_buah[1])"
   ]
  },
  {
   "cell_type": "code",
   "execution_count": 34,
   "id": "83c344b4-b953-4c2f-9f31-7cff5a18ec0e",
   "metadata": {},
   "outputs": [
    {
     "name": "stdout",
     "output_type": "stream",
     "text": [
      "True\n"
     ]
    }
   ],
   "source": [
    "print (list_buah == list_buah2)"
   ]
  },
  {
   "cell_type": "code",
   "execution_count": 37,
   "id": "0d1eca0b-7e3a-4303-b3b2-4e0de4ab3bba",
   "metadata": {},
   "outputs": [
    {
     "name": "stdout",
     "output_type": "stream",
     "text": [
      "False\n"
     ]
    }
   ],
   "source": [
    "print (list_buah == list_buah2)"
   ]
  },
  {
   "cell_type": "code",
   "execution_count": 44,
   "id": "6548110f-3e4f-41a5-8efc-f9d216343f2c",
   "metadata": {},
   "outputs": [
    {
     "ename": "SyntaxError",
     "evalue": "invalid syntax (<ipython-input-44-885606d2d826>, line 1)",
     "output_type": "error",
     "traceback": [
      "\u001b[0;36m  File \u001b[0;32m\"<ipython-input-44-885606d2d826>\"\u001b[0;36m, line \u001b[0;32m1\u001b[0m\n\u001b[0;31m    print (list_random = [123, 2.5 True, \"halo\"])\u001b[0m\n\u001b[0m                                   ^\u001b[0m\n\u001b[0;31mSyntaxError\u001b[0m\u001b[0;31m:\u001b[0m invalid syntax\n"
     ]
    }
   ],
   "source": [
    "print (list_random = [123, 2.5 True, \"halo\"])"
   ]
  },
  {
   "cell_type": "code",
   "execution_count": 40,
   "id": "ed1de2bb-6696-44e2-8e3a-3fa5779668b4",
   "metadata": {},
   "outputs": [
    {
     "name": "stdout",
     "output_type": "stream",
     "text": [
      "pisang\n"
     ]
    }
   ],
   "source": [
    "print (list_buah[-1])"
   ]
  },
  {
   "cell_type": "code",
   "execution_count": 42,
   "id": "bcb84cd2-82f0-4874-bb57-9e708e0b087a",
   "metadata": {},
   "outputs": [
    {
     "name": "stdout",
     "output_type": "stream",
     "text": [
      "['apel', 'mangga', 'duku', 'pisang', 'apel', 'mangga', 'duku', 'pisang']\n"
     ]
    }
   ],
   "source": [
    "print (list_buah *2)"
   ]
  },
  {
   "cell_type": "code",
   "execution_count": 43,
   "id": "faa5bbfe-9035-4956-b686-b97ae127e1eb",
   "metadata": {},
   "outputs": [
    {
     "ename": "TypeError",
     "evalue": "can't multiply sequence by non-int of type 'list'",
     "output_type": "error",
     "traceback": [
      "\u001b[0;31m---------------------------------------------------------------------------\u001b[0m",
      "\u001b[0;31mTypeError\u001b[0m                                 Traceback (most recent call last)",
      "\u001b[0;32m<ipython-input-43-00b059105a31>\u001b[0m in \u001b[0;36m<module>\u001b[0;34m\u001b[0m\n\u001b[0;32m----> 1\u001b[0;31m \u001b[0mprint\u001b[0m \u001b[0;34m(\u001b[0m\u001b[0mlist_buah\u001b[0m \u001b[0;34m*\u001b[0m \u001b[0mlist_random\u001b[0m\u001b[0;34m)\u001b[0m\u001b[0;34m\u001b[0m\u001b[0;34m\u001b[0m\u001b[0m\n\u001b[0m",
      "\u001b[0;31mTypeError\u001b[0m: can't multiply sequence by non-int of type 'list'"
     ]
    }
   ],
   "source": [
    "print (list_buah * list_random)"
   ]
  },
  {
   "cell_type": "code",
   "execution_count": 45,
   "id": "266e3cd4-64cc-469b-9aa6-905eda173473",
   "metadata": {},
   "outputs": [
    {
     "name": "stdout",
     "output_type": "stream",
     "text": [
      "4\n"
     ]
    }
   ],
   "source": [
    "print (len(list_buah))"
   ]
  },
  {
   "cell_type": "code",
   "execution_count": 46,
   "id": "505e240b-e766-4f67-bba6-25589bd1b04b",
   "metadata": {},
   "outputs": [
    {
     "name": "stdout",
     "output_type": "stream",
     "text": [
      "apel\n",
      "pisang\n"
     ]
    }
   ],
   "source": [
    "print (min(list_buah))\n",
    "print (max (list_buah))"
   ]
  },
  {
   "cell_type": "code",
   "execution_count": 48,
   "id": "3372a3b6-c127-426d-a4e5-4238523ecc68",
   "metadata": {},
   "outputs": [
    {
     "name": "stdout",
     "output_type": "stream",
     "text": [
      "-3\n",
      "100\n"
     ]
    }
   ],
   "source": [
    "list_nilai = [10, 100, 50, -3, 25]\n",
    "print (min(list_nilai))\n",
    "print (max (list_nilai))"
   ]
  },
  {
   "cell_type": "code",
   "execution_count": 49,
   "id": "8e57e80a-5625-4d27-989a-140dadd20ba0",
   "metadata": {},
   "outputs": [
    {
     "name": "stdout",
     "output_type": "stream",
     "text": [
      "['apel', 'mangga', 'duku', 'pisang']\n"
     ]
    }
   ],
   "source": [
    "print (list_buah)"
   ]
  },
  {
   "cell_type": "code",
   "execution_count": 50,
   "id": "17bfddce-a032-477c-9f34-92e939ee7333",
   "metadata": {},
   "outputs": [
    {
     "name": "stdout",
     "output_type": "stream",
     "text": [
      "['pepaya', 'mangga', 'duku', 'pisang']\n"
     ]
    }
   ],
   "source": [
    "list_buah[0] = \"pepaya\"\n",
    "print(list_buah)"
   ]
  },
  {
   "cell_type": "code",
   "execution_count": 52,
   "id": "12888870-f15b-4f51-b9a6-0f110290323a",
   "metadata": {},
   "outputs": [
    {
     "name": "stdout",
     "output_type": "stream",
     "text": [
      "['pepaya', 'mangga', 'semangka', 'nanas']\n"
     ]
    }
   ],
   "source": [
    "list_buah[2:4] = [\"semangka\", \"nanas\"]\n",
    "print(list_buah)"
   ]
  },
  {
   "cell_type": "code",
   "execution_count": 53,
   "id": "62b36286-542c-4a26-a83c-086be772aeac",
   "metadata": {},
   "outputs": [
    {
     "name": "stdout",
     "output_type": "stream",
     "text": [
      "['pepaya', 'mangga', 'semangka', 'nanas']\n"
     ]
    }
   ],
   "source": [
    "print (list_buah)"
   ]
  },
  {
   "cell_type": "code",
   "execution_count": 54,
   "id": "c0b7f892-d667-4308-b48c-f7908fd182c8",
   "metadata": {},
   "outputs": [
    {
     "name": "stdout",
     "output_type": "stream",
     "text": [
      "('pepaya', 'semangka', 'nanas', 'pisang')\n",
      "<class 'tuple'>\n"
     ]
    }
   ],
   "source": [
    "tuple_buah = ('pepaya', 'semangka', 'nanas', 'pisang')\n",
    "print (tuple_buah)\n",
    "print (type(tuple_buah))"
   ]
  },
  {
   "cell_type": "code",
   "execution_count": 55,
   "id": "774155a2-a49c-4514-9b39-aa040e92ec36",
   "metadata": {},
   "outputs": [
    {
     "ename": "TypeError",
     "evalue": "'tuple' object does not support item assignment",
     "output_type": "error",
     "traceback": [
      "\u001b[0;31m---------------------------------------------------------------------------\u001b[0m",
      "\u001b[0;31mTypeError\u001b[0m                                 Traceback (most recent call last)",
      "\u001b[0;32m<ipython-input-55-4aff6d3a4dff>\u001b[0m in \u001b[0;36m<module>\u001b[0;34m\u001b[0m\n\u001b[0;32m----> 1\u001b[0;31m \u001b[0mtuple_buah\u001b[0m\u001b[0;34m[\u001b[0m\u001b[0;36m0\u001b[0m\u001b[0;34m]\u001b[0m \u001b[0;34m=\u001b[0m \u001b[0;34m\"apel\"\u001b[0m\u001b[0;34m\u001b[0m\u001b[0;34m\u001b[0m\u001b[0m\n\u001b[0m",
      "\u001b[0;31mTypeError\u001b[0m: 'tuple' object does not support item assignment"
     ]
    }
   ],
   "source": [
    " tuple_buah[0] = \"apel\" #immutable, tidak bisa berubah dari isi tuple"
   ]
  },
  {
   "cell_type": "code",
   "execution_count": 56,
   "id": "c34793e5-8ba8-49ec-bbd1-f0c03903e3a9",
   "metadata": {},
   "outputs": [
    {
     "name": "stdout",
     "output_type": "stream",
     "text": [
      "('pepaya', 'semangka', 'nanas', 'pisang')\n"
     ]
    }
   ],
   "source": [
    "print(tuple_buah)"
   ]
  },
  {
   "cell_type": "code",
   "execution_count": 57,
   "id": "4bd16a0c-5e26-4ed5-ad39-f12b9969e3b1",
   "metadata": {},
   "outputs": [
    {
     "name": "stdout",
     "output_type": "stream",
     "text": [
      "['pepaya', 'mangga', 'semangka', 'nanas']\n"
     ]
    }
   ],
   "source": [
    "print (list_buah)"
   ]
  },
  {
   "cell_type": "code",
   "execution_count": 58,
   "id": "8f35a5b5-e6ad-45ad-b9f7-bb9eefb54086",
   "metadata": {},
   "outputs": [
    {
     "data": {
      "text/plain": [
       "'pepaya'"
      ]
     },
     "execution_count": 58,
     "metadata": {},
     "output_type": "execute_result"
    }
   ],
   "source": [
    "list_buah[0]"
   ]
  },
  {
   "cell_type": "code",
   "execution_count": 59,
   "id": "4bf7b85e-fe15-4716-9a3b-1020e9a52d93",
   "metadata": {},
   "outputs": [
    {
     "name": "stdout",
     "output_type": "stream",
     "text": [
      "('pepaya', 'semangka', 'nanas', 'pisang')\n"
     ]
    }
   ],
   "source": [
    "print (tuple_buah)"
   ]
  },
  {
   "cell_type": "code",
   "execution_count": 60,
   "id": "79a359e4-b300-40c1-af9a-47d12c1ec8e8",
   "metadata": {},
   "outputs": [
    {
     "name": "stdout",
     "output_type": "stream",
     "text": [
      "pepaya\n"
     ]
    }
   ],
   "source": [
    "print (tuple_buah[0])"
   ]
  },
  {
   "cell_type": "code",
   "execution_count": 62,
   "id": "afabc33b-4bbf-47a5-ac39-b6ca4ec0e828",
   "metadata": {},
   "outputs": [
    {
     "name": "stdout",
     "output_type": "stream",
     "text": [
      "{'warna': 'silver', 'tahun': 2018, 'merk': 'Kijang', 'tipe': 'SUV'}\n",
      "<class 'dict'>\n"
     ]
    }
   ],
   "source": [
    "dict_mobil = {\n",
    "    'warna': 'silver',\n",
    "    'tahun': 2018,\n",
    "    'merk': 'Kijang',\n",
    "    'tipe': 'SUV'\n",
    "}\n",
    "print (dict_mobil)\n",
    "print (type(dict_mobil))"
   ]
  },
  {
   "cell_type": "code",
   "execution_count": 63,
   "id": "e5bab8d3-af13-4610-8abd-ee45861a7626",
   "metadata": {},
   "outputs": [
    {
     "name": "stdout",
     "output_type": "stream",
     "text": [
      "Kijang\n"
     ]
    }
   ],
   "source": [
    "print(dict_mobil['merk'])"
   ]
  },
  {
   "cell_type": "code",
   "execution_count": 65,
   "id": "06859a58-f8cd-40c9-95bb-c95706871ac6",
   "metadata": {},
   "outputs": [
    {
     "name": "stdout",
     "output_type": "stream",
     "text": [
      "{'merk': 'iPhone', 'warna': 'black', 'memori': '128gb'}\n",
      "<class 'dict'>\n"
     ]
    }
   ],
   "source": [
    "dict_hp = {\n",
    "    'merk': 'iPhone',\n",
    "    'warna': 'black',\n",
    "    'memori': '128gb'\n",
    "}\n",
    "\n",
    "print (dict_hp)\n",
    "print (type(dict_hp))"
   ]
  },
  {
   "cell_type": "code",
   "execution_count": 66,
   "id": "55ba928e-7f20-42a5-a444-a454bc89c002",
   "metadata": {},
   "outputs": [
    {
     "name": "stdout",
     "output_type": "stream",
     "text": [
      "128gb\n"
     ]
    }
   ],
   "source": [
    "print(dict_hp['memori'])"
   ]
  },
  {
   "cell_type": "code",
   "execution_count": 67,
   "id": "4064f767-da63-4145-8a2d-81fe13dfcab9",
   "metadata": {},
   "outputs": [
    {
     "name": "stdout",
     "output_type": "stream",
     "text": [
      "{'warna': 'silver', 'tahun': 2018, 'merk': 'Kijang', 'tipe': 'SUV', 'harga_beli': 200}\n"
     ]
    }
   ],
   "source": [
    "dict_mobil['harga_beli'] = 200\n",
    "print(dict_mobil)"
   ]
  },
  {
   "cell_type": "code",
   "execution_count": 68,
   "id": "76d23fe6-b03f-4921-b825-8d591c9b9954",
   "metadata": {},
   "outputs": [
    {
     "name": "stdout",
     "output_type": "stream",
     "text": [
      "{'warna': 'silver', 'tahun': 2018, 'merk': 'KIA', 'tipe': 'SUV', 'harga_beli': 200}\n"
     ]
    }
   ],
   "source": [
    "dict_mobil['merk'] = \"KIA\"\n",
    "print(dict_mobil)"
   ]
  },
  {
   "cell_type": "code",
   "execution_count": 70,
   "id": "5973c8a3-9e11-49cb-b905-61dc0e8942eb",
   "metadata": {},
   "outputs": [
    {
     "name": "stdout",
     "output_type": "stream",
     "text": [
      "dict_keys(['warna', 'tahun', 'merk', 'tipe', 'harga_beli'])\n",
      "dict_values(['silver', 2018, 'KIA', 'SUV', 200])\n"
     ]
    }
   ],
   "source": [
    "print (dict_mobil.keys())\n",
    "print (dict_mobil.values())"
   ]
  },
  {
   "cell_type": "code",
   "execution_count": 71,
   "id": "a50c0b06-b88f-468b-886d-b83bc35731d3",
   "metadata": {},
   "outputs": [
    {
     "name": "stdout",
     "output_type": "stream",
     "text": [
      "dict_items([('warna', 'silver'), ('tahun', 2018), ('merk', 'KIA'), ('tipe', 'SUV'), ('harga_beli', 200)])\n"
     ]
    }
   ],
   "source": [
    "print (dict_mobil.items())"
   ]
  },
  {
   "cell_type": "code",
   "execution_count": 72,
   "id": "3a57edb0-4a8c-4793-84fa-2233c482e019",
   "metadata": {},
   "outputs": [
    {
     "name": "stdout",
     "output_type": "stream",
     "text": [
      "{'warna': 'silver', 'tahun': 2018, 'merk': 'KIA', 'tipe': 'SUV', 'harga_beli': 200}\n"
     ]
    }
   ],
   "source": [
    "print (dict_mobil)"
   ]
  },
  {
   "cell_type": "code",
   "execution_count": 73,
   "id": "5dc10a66-44b2-428f-a183-aeb663eda3b9",
   "metadata": {},
   "outputs": [
    {
     "name": "stdout",
     "output_type": "stream",
     "text": [
      "semangka\n",
      "nanas\n"
     ]
    }
   ],
   "source": [
    "i = 2\n",
    "print(list_buah[i])\n",
    "print(tuple_buah[i])"
   ]
  },
  {
   "cell_type": "code",
   "execution_count": 74,
   "id": "b94df30b-1640-4957-9f32-de83c4b397c3",
   "metadata": {},
   "outputs": [
    {
     "data": {
      "text/plain": [
       "['pepaya', 'mangga', 'semangka', 'nanas']"
      ]
     },
     "execution_count": 74,
     "metadata": {},
     "output_type": "execute_result"
    }
   ],
   "source": [
    "list_buah"
   ]
  },
  {
   "cell_type": "code",
   "execution_count": 75,
   "id": "02ab860a-b5ae-4147-a8aa-8744e1244365",
   "metadata": {},
   "outputs": [
    {
     "ename": "SyntaxError",
     "evalue": "invalid syntax (<ipython-input-75-eff17f2cf128>, line 1)",
     "output_type": "error",
     "traceback": [
      "\u001b[0;36m  File \u001b[0;32m\"<ipython-input-75-eff17f2cf128>\"\u001b[0;36m, line \u001b[0;32m1\u001b[0m\n\u001b[0;31m    summary data struktur\u001b[0m\n\u001b[0m            ^\u001b[0m\n\u001b[0;31mSyntaxError\u001b[0m\u001b[0;31m:\u001b[0m invalid syntax\n"
     ]
    }
   ],
   "source": [
    "summary data struktur"
   ]
  },
  {
   "cell_type": "code",
   "execution_count": 76,
   "id": "859980fa-da81-4cbf-b987-122b075b9a13",
   "metadata": {},
   "outputs": [
    {
     "data": {
      "text/plain": [
       "['pepaya', 'mangga', 'semangka', 'nanas']"
      ]
     },
     "execution_count": 76,
     "metadata": {},
     "output_type": "execute_result"
    }
   ],
   "source": [
    "list_buah"
   ]
  },
  {
   "cell_type": "code",
   "execution_count": 77,
   "id": "6c71140e-4016-43bb-9ce5-70f2750805c6",
   "metadata": {},
   "outputs": [],
   "source": [
    "list_makanan = [\"nasi goreng\", \"mie goreng\", \"ayam bakar\"]\n",
    "tuple_makanan = [\"nasi goreng\", \"mie goreng\", \"ayam bakar\"] # isinya tidak bisa diubah seperti list\n",
    "dict_makanan = {\"nasi goreng\": 1, \"mie goreng\": 2, \"ayam bakar\": 1} # pakai key bukan index\n",
    "set_makanan = {\"nasi goreng\", \"mie goreng\", \"ayam bakar\"} #isi dari set semuanya unik, tidak bisa dobel, dan set tidak bisa punya index"
   ]
  },
  {
   "cell_type": "code",
   "execution_count": 81,
   "id": "d51ee7e7-4427-4832-bef7-11de753a6353",
   "metadata": {},
   "outputs": [
    {
     "name": "stdout",
     "output_type": "stream",
     "text": [
      "[{'bahan': ['nasi', 'telur', 'kecap'], 'harga': 15000}, {'bahan': ['air', 'teh', 'gula'], 'harga': 5000}]\n"
     ]
    }
   ],
   "source": [
    "nasi_goreng = {\n",
    "    'bahan': ['nasi', 'telur', 'kecap'],\n",
    "    'harga': 15000\n",
    "\n",
    "}\n",
    "es_teh_manis = {\n",
    "    'bahan': ['air', 'teh', 'gula'],\n",
    "    'harga': 5000\n",
    "}\n",
    "\n",
    "makan_siang = [\n",
    "    nasi_goreng, es_teh_manis\n",
    "]\n",
    "\n",
    "print (makan_siang)"
   ]
  },
  {
   "cell_type": "code",
   "execution_count": 82,
   "id": "073f2ca3-4e43-42a3-bcb4-9c56eacf5887",
   "metadata": {},
   "outputs": [
    {
     "name": "stdout",
     "output_type": "stream",
     "text": [
      "['nasi goreng', 'mie goreng', 'ayam bakar']\n",
      "['mie goreng', 'ayam bakar']\n"
     ]
    }
   ],
   "source": [
    "print(list_makanan)\n",
    "del list_makanan[0]\n",
    "print (list_makanan)"
   ]
  },
  {
   "cell_type": "code",
   "execution_count": 83,
   "id": "911418f7-69f7-4d51-bffe-af9125520c8e",
   "metadata": {},
   "outputs": [
    {
     "name": "stdout",
     "output_type": "stream",
     "text": [
      "mie goreng\n",
      "ayam bakar\n"
     ]
    }
   ],
   "source": [
    "[a, b] = list_makanan\n",
    "\n",
    "print(a)\n",
    "print(b)"
   ]
  },
  {
   "cell_type": "code",
   "execution_count": 84,
   "id": "aa35679a-6954-4eea-9d4f-4d702c483e6a",
   "metadata": {},
   "outputs": [
    {
     "name": "stdout",
     "output_type": "stream",
     "text": [
      "nasi goreng\n",
      "mie goreng\n",
      "ayam bakar\n"
     ]
    }
   ],
   "source": [
    "(a, b, c) = tuple_makanan\n",
    "\n",
    "print(a)\n",
    "print(b)\n",
    "print(c)"
   ]
  },
  {
   "cell_type": "code",
   "execution_count": null,
   "id": "da819f3e-1c6e-4537-a8f2-47a24284e6bc",
   "metadata": {},
   "outputs": [],
   "source": []
  },
  {
   "cell_type": "code",
   "execution_count": null,
   "id": "03700a1d-70f4-4098-a31e-69529ed2c0a2",
   "metadata": {},
   "outputs": [],
   "source": []
  }
 ],
 "metadata": {
  "kernelspec": {
   "display_name": "Python 3",
   "language": "python",
   "name": "python3"
  },
  "language_info": {
   "codemirror_mode": {
    "name": "ipython",
    "version": 3
   },
   "file_extension": ".py",
   "mimetype": "text/x-python",
   "name": "python",
   "nbconvert_exporter": "python",
   "pygments_lexer": "ipython3",
   "version": "3.8.8"
  }
 },
 "nbformat": 4,
 "nbformat_minor": 5
}
